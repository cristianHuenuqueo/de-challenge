{
 "cells": [
  {
   "cell_type": "code",
   "execution_count": 111,
   "id": "a2f22285",
   "metadata": {},
   "outputs": [],
   "source": [
    "import pandas as pd\n",
    "from datetime import date\n",
    "today = date.today()"
   ]
  },
  {
   "cell_type": "code",
   "execution_count": 112,
   "id": "12042a52",
   "metadata": {},
   "outputs": [],
   "source": [
    "url_result = '../data/result.csv'\n",
    "url_consoles = '../data/consoles.csv'"
   ]
  },
  {
   "cell_type": "code",
   "execution_count": 113,
   "id": "04a9b492",
   "metadata": {},
   "outputs": [],
   "source": [
    "df_score = pd.read_csv(url_result, sep = ',',  quotechar='\"')"
   ]
  },
  {
   "cell_type": "code",
   "execution_count": 114,
   "id": "87bc4e02",
   "metadata": {},
   "outputs": [],
   "source": [
    "df_companies = pd.read_csv(url_consoles, sep = ',')"
   ]
  },
  {
   "cell_type": "code",
   "execution_count": 123,
   "id": "d9619878",
   "metadata": {},
   "outputs": [],
   "source": [
    "df = df_score.join(df_companies.set_index('console'), on='console')\n",
    "df = df.rename(columns={'name':'name_game'})"
   ]
  },
  {
   "cell_type": "code",
   "execution_count": 77,
   "id": "71ae75f1",
   "metadata": {},
   "outputs": [],
   "source": [
    "con = 'PS3'\n",
    "com = 'Sony'\n",
    "\n",
    "df_resultado = df.query(f\"\"\"console == '{con}'\"\"\")\n",
    "df_resultado = df_resultado.query('userscore != \"tbd\"')\n",
    "df_resultado = df_resultado.sort_values('metascore', ascending = False).head(10)\n",
    "\n",
    "df_resultado.to_excel('test.xlsx')"
   ]
  },
  {
   "cell_type": "code",
   "execution_count": 130,
   "id": "41abe133",
   "metadata": {},
   "outputs": [],
   "source": [
    "namegame = list()\n",
    "console = list()\n",
    "score = list()\n",
    "company = list()\n",
    "\n",
    "for i in df_companies['console']:\n",
    "    df_res = df.query(f\"\"\"console == '{i}'\"\"\")\n",
    "    df_res = df_res.query('userscore != \"tbd\"')\n",
    "    df_res = df_res.sort_values('metascore', ascending = False).head(10)\n",
    "    for index, row in df_res.iterrows():\n",
    "        namegame.append(row.name_game)\n",
    "        console.append(row.console)\n",
    "        score.append(row.metascore)\n",
    "        company.append(row.company)\n",
    "\n",
    "df_resultado = pd.DataFrame({'name_game': namegame, 'name_console': console, 'score': score, 'name_company': company})\n",
    "\n",
    "df_resultado.to_csv('mejores10juegos_consola_empresa_'+str(today)+'.csv', sep=\"|\", index = False)"
   ]
  },
  {
   "cell_type": "code",
   "execution_count": 132,
   "id": "c416d866",
   "metadata": {},
   "outputs": [],
   "source": [
    "namegame = list()\n",
    "console = list()\n",
    "score = list()\n",
    "company = list()\n",
    "\n",
    "for i in df_companies['console']:\n",
    "    df_res = df.query(f\"\"\"console == '{i}'\"\"\")\n",
    "    df_res = df_res.query('userscore != \"tbd\"')\n",
    "    df_res = df_res.sort_values('metascore').head(10)\n",
    "    for index, row in df_res.iterrows():\n",
    "        namegame.append(row.name_game)\n",
    "        console.append(row.console)\n",
    "        score.append(row.metascore)\n",
    "        company.append(row.company)\n",
    "\n",
    "df_resultado = pd.DataFrame({'name_game': namegame, 'name_console': console, 'score': score, 'name_company': company})\n",
    "\n",
    "df_resultado.to_csv('peores10juegos_consola_empresa_'+str(today)+'.csv', sep=\"|\", index = False)"
   ]
  },
  {
   "cell_type": "code",
   "execution_count": null,
   "id": "171c029c",
   "metadata": {},
   "outputs": [],
   "source": []
  }
 ],
 "metadata": {
  "kernelspec": {
   "display_name": "Python 3 (ipykernel)",
   "language": "python",
   "name": "python3"
  },
  "language_info": {
   "codemirror_mode": {
    "name": "ipython",
    "version": 3
   },
   "file_extension": ".py",
   "mimetype": "text/x-python",
   "name": "python",
   "nbconvert_exporter": "python",
   "pygments_lexer": "ipython3",
   "version": "3.9.7"
  }
 },
 "nbformat": 4,
 "nbformat_minor": 5
}
